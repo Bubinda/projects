{
 "cells": [
  {
   "cell_type": "code",
   "execution_count": 3,
   "metadata": {},
   "outputs": [],
   "source": [
    "with open(\"input.txt\") as input:\n",
    "    data = input.read()\n",
    "    lines = data.strip().split('\\n')"
   ]
  },
  {
   "cell_type": "code",
   "execution_count": 9,
   "metadata": {},
   "outputs": [
    {
     "name": "stdout",
     "output_type": "stream",
     "text": [
      "140 140\n"
     ]
    }
   ],
   "source": [
    "n = len(lines)\n",
    "m = len(lines[0])\n",
    "print(m,n)"
   ]
  },
  {
   "cell_type": "code",
   "execution_count": 10,
   "metadata": {},
   "outputs": [],
   "source": [
    "def is_a_symbol(i,j):\n",
    "    if not (0 <= i < n and 0 <= j < m):\n",
    "        return False\n",
    "    return lines[i][j] != '.' and not lines[i][j].isdigit()"
   ]
  },
  {
   "cell_type": "code",
   "execution_count": 11,
   "metadata": {},
   "outputs": [],
   "source": [
    "solution_part_1 = 0"
   ]
  },
  {
   "cell_type": "code",
   "execution_count": 12,
   "metadata": {},
   "outputs": [],
   "source": [
    "for row , line in enumerate(lines):\n",
    "    start = 0\n",
    "\n",
    "    col = 0\n",
    "\n",
    "    while col < m:\n",
    "        start = col\n",
    "        num = ''\n",
    "        while col < m and line[col].isdigit():\n",
    "            num += line[col]\n",
    "            col += 1\n",
    "        if num == \"\":\n",
    "            col += 1\n",
    "            continue\n",
    "\n",
    "        num = int(num)\n",
    "\n",
    "        # now check around the number\n",
    "        if is_a_symbol(row, start-1) or is_a_symbol(row, col): # first look before the current number and second look after the current number, this can be done by taking the curretn row / col value because we already went over it\n",
    "            solution_part_1 += num\n",
    "            continue\n",
    "\n",
    "        for x in range(start-1,col+1):\n",
    "            if is_a_symbol(row-1,x) or is_a_symbol(row+1,x):\n",
    "                solution_part_1 += num\n",
    "                break"
   ]
  },
  {
   "cell_type": "code",
   "execution_count": 13,
   "metadata": {},
   "outputs": [
    {
     "name": "stdout",
     "output_type": "stream",
     "text": [
      "535235\n"
     ]
    }
   ],
   "source": [
    "print(solution_part_1)"
   ]
  },
  {
   "cell_type": "markdown",
   "metadata": {},
   "source": [
    "## Part 2"
   ]
  },
  {
   "cell_type": "markdown",
   "metadata": {},
   "source": [
    "change the is_a_symbol function in such a way that if the found symbol is a * we add the found number to a matrix"
   ]
  },
  {
   "cell_type": "code",
   "execution_count": 57,
   "metadata": {},
   "outputs": [],
   "source": [
    "#matrix with size of the input\n",
    "\n",
    "gear_ratios = [[[] for _ in range(m)] for _ in range(n)]"
   ]
  },
  {
   "cell_type": "code",
   "execution_count": 58,
   "metadata": {},
   "outputs": [],
   "source": [
    "solution_part_2 = []"
   ]
  },
  {
   "cell_type": "code",
   "execution_count": 59,
   "metadata": {},
   "outputs": [],
   "source": [
    "def is_a_symbol_gear(i,j, num):\n",
    "    if not (0 <= i < n and 0 <= j < m):\n",
    "        return False\n",
    "    if lines[i][j] == '*':\n",
    "        gear_ratios[i][j].append(num)\n",
    "    if len(gear_ratios[i][j]) == 2:\n",
    "        solution_part_2.append(gear_ratios[i][j][0] * gear_ratios[i][j][1])\n",
    "    return lines[i][j] != '.' and not lines[i][j].isdigit()\n",
    "\n"
   ]
  },
  {
   "cell_type": "code",
   "execution_count": 60,
   "metadata": {},
   "outputs": [],
   "source": [
    "for row , line in enumerate(lines):\n",
    "    start = 0\n",
    "\n",
    "    col = 0\n",
    "\n",
    "    while col < m:\n",
    "        start = col\n",
    "        num = ''\n",
    "        while col < m and line[col].isdigit():\n",
    "            num += line[col]\n",
    "            col += 1\n",
    "        if num == \"\":\n",
    "            col += 1\n",
    "            continue\n",
    "\n",
    "        num = int(num)\n",
    "\n",
    "        # now check around the number\n",
    "        is_a_symbol_gear(row, start-1,num) or is_a_symbol_gear(row, col,num) # first look before the current number and second look after the current number, this can be done by taking the curretn row / col value because we already went over it\n",
    "\n",
    "        for x in range(start-1,col+1):\n",
    "            is_a_symbol_gear(row-1,x,num) or is_a_symbol_gear(row+1,x,num)\n"
   ]
  },
  {
   "cell_type": "code",
   "execution_count": 62,
   "metadata": {},
   "outputs": [
    {
     "name": "stdout",
     "output_type": "stream",
     "text": [
      "79844424\n"
     ]
    }
   ],
   "source": [
    "print(sum(solution_part_2))"
   ]
  },
  {
   "cell_type": "code",
   "execution_count": null,
   "metadata": {},
   "outputs": [],
   "source": []
  }
 ],
 "metadata": {
  "kernelspec": {
   "display_name": "projects_python",
   "language": "python",
   "name": "python3"
  },
  "language_info": {
   "codemirror_mode": {
    "name": "ipython",
    "version": 3
   },
   "file_extension": ".py",
   "mimetype": "text/x-python",
   "name": "python",
   "nbconvert_exporter": "python",
   "pygments_lexer": "ipython3",
   "version": "3.11.5"
  }
 },
 "nbformat": 4,
 "nbformat_minor": 2
}
