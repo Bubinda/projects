{
 "cells": [
  {
   "cell_type": "code",
   "execution_count": 1,
   "metadata": {},
   "outputs": [
    {
     "name": "stderr",
     "output_type": "stream",
     "text": [
      "/Users/philipbuchbender/opt/anaconda3/envs/projects_python/lib/python3.11/site-packages/tqdm/auto.py:21: TqdmWarning: IProgress not found. Please update jupyter and ipywidgets. See https://ipywidgets.readthedocs.io/en/stable/user_install.html\n",
      "  from .autonotebook import tqdm as notebook_tqdm\n",
      "config.json: 100%|██████████| 508/508 [00:00<00:00, 876kB/s]\n",
      "model.safetensors: 100%|██████████| 445M/445M [01:31<00:00, 4.87MB/s] \n",
      "Some weights of the model checkpoint at camembert-base were not used when initializing CamembertForMaskedLM: ['roberta.pooler.dense.weight', 'roberta.pooler.dense.bias']\n",
      "- This IS expected if you are initializing CamembertForMaskedLM from the checkpoint of a model trained on another task or with another architecture (e.g. initializing a BertForSequenceClassification model from a BertForPreTraining model).\n",
      "- This IS NOT expected if you are initializing CamembertForMaskedLM from the checkpoint of a model that you expect to be exactly identical (initializing a BertForSequenceClassification model from a BertForSequenceClassification model).\n",
      "sentencepiece.bpe.model: 100%|██████████| 811k/811k [00:00<00:00, 2.51MB/s]\n",
      "tokenizer.json: 100%|██████████| 1.40M/1.40M [00:00<00:00, 2.49MB/s]\n"
     ]
    }
   ],
   "source": [
    "from transformers import pipeline\n",
    "\n",
    "camembert_fill_mask = pipeline(\"fill-mask\", model=\"camembert-base\")\n",
    "results = camembert_fill_mask(\"Le camembert est <mask> :)\")"
   ]
  },
  {
   "cell_type": "code",
   "execution_count": 3,
   "metadata": {},
   "outputs": [
    {
     "name": "stdout",
     "output_type": "stream",
     "text": [
      "[{'score': 0.49091148376464844,\n",
      "  'sequence': 'Le camembert est délicieux :)',\n",
      "  'token': 7200,\n",
      "  'token_str': 'délicieux'},\n",
      " {'score': 0.1055697500705719,\n",
      "  'sequence': 'Le camembert est excellent :)',\n",
      "  'token': 2183,\n",
      "  'token_str': 'excellent'},\n",
      " {'score': 0.03453323245048523,\n",
      "  'sequence': 'Le camembert est succulent :)',\n",
      "  'token': 26202,\n",
      "  'token_str': 'succulent'},\n",
      " {'score': 0.03303128853440285,\n",
      "  'sequence': 'Le camembert est meilleur :)',\n",
      "  'token': 528,\n",
      "  'token_str': 'meilleur'},\n",
      " {'score': 0.030076274648308754,\n",
      "  'sequence': 'Le camembert est parfait :)',\n",
      "  'token': 1654,\n",
      "  'token_str': 'parfait'}]\n"
     ]
    }
   ],
   "source": [
    "from pprint import pprint\n",
    "pprint(results)"
   ]
  },
  {
   "cell_type": "markdown",
   "metadata": {},
   "source": [
    "You can also instantiate the checkpoint using the model architecture directly:\n",
    "\n",
    "Copied\n",
    "from transformers import CamembertTokenizer, CamembertForMaskedLM\n",
    "\n",
    "tokenizer = CamembertTokenizer.from_pretrained(\"camembert-base\")\n",
    "model = CamembertForMaskedLM.from_pretrained(\"camembert-base\")\n",
    "However, we recommend using the Auto* classes instead, as these are by design architecture-agnostic. While the previous code sample limits users to checkpoints loadable in the CamemBERT architecture, using the Auto* classes makes switching checkpoints simple:\n",
    "\n",
    "Copied\n",
    "from transformers import AutoTokenizer, AutoModelForMaskedLM\n",
    "\n",
    "tokenizer = AutoTokenizer.from_pretrained(\"camembert-base\")\n",
    "model = AutoModelForMaskedLM.from_pretrained(\"camembert-base\")"
   ]
  },
  {
   "cell_type": "code",
   "execution_count": null,
   "metadata": {},
   "outputs": [],
   "source": []
  }
 ],
 "metadata": {
  "kernelspec": {
   "display_name": "projects_python",
   "language": "python",
   "name": "python3"
  },
  "language_info": {
   "codemirror_mode": {
    "name": "ipython",
    "version": 3
   },
   "file_extension": ".py",
   "mimetype": "text/x-python",
   "name": "python",
   "nbconvert_exporter": "python",
   "pygments_lexer": "ipython3",
   "version": "3.11.5"
  }
 },
 "nbformat": 4,
 "nbformat_minor": 2
}
